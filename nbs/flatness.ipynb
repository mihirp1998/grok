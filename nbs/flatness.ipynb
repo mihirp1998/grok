{
 "cells": [
  {
   "cell_type": "code",
   "execution_count": null,
   "id": "geographic-personal",
   "metadata": {},
   "outputs": [],
   "source": [
    "import os\n",
    "import pickle\n",
    "import matplotlib.pyplot as plt\n",
    "\n",
    "def paired_sort(list1, list2):\n",
    "    list1, list2 = zip(*sorted(zip(list1, list2)))\n",
    "    return list1, list2\n",
    "\n",
    "def plot_phi_by_ckpt():\n",
    "\n",
    "    nums = []\n",
    "    flatness = []\n",
    "\n",
    "    for f in sorted(os.listdir(\"../results/\")):\n",
    "        if \"pkl\" in f:\n",
    "            num = int(f.split(\"-\")[1].split(\".pkl\")[0])\n",
    "            dat = pickle.load(open(os.path.join(\"../results/\", f), \"rb\"))\n",
    "            nums.append(num)\n",
    "            flatness.append(dat[list(dat.keys())[0]].item())\n",
    "\n",
    "\n",
    "    nums, flatness = paired_sort(nums, flatness)\n",
    "    plt.plot(nums, flatness)\n",
    "    plt.xticks(range(len(nums)))\n",
    "    plt.ylabel(\"phi\")\n",
    "    plt.xlabel(\"SD-{n} checkpoint\")\n",
    "    plt.savefig(\"phi-by-ckpt.png\")"
   ]
  },
  {
   "cell_type": "code",
   "execution_count": null,
   "id": "mineral-assembly",
   "metadata": {},
   "outputs": [],
   "source": [
    "plot_phi_by_ckpt()"
   ]
  },
  {
   "cell_type": "code",
   "execution_count": 1,
   "id": "82be1186",
   "metadata": {},
   "outputs": [],
   "source": [
    "tok = ['<|eos|>', '=', '(x._value//y)if(y._value%2==1)else(x-y)_mod_97', '*', '**2+', '**3+', '+', '+*', '+-', '-', '/', '2x', '2x+1', 'copy', 'pfactor', 'reverse', 's5', 's5aba', 's5conj', 'sort', 'x**2+y**2+x*y+x_mod_97', 'x**2+y**2+x*y_mod_97', 'x**2+y**2_mod_97', 'x**3', 'x**3+x*y**2+y_mod_97', 'x**3+x*y_mod_97', '0', '1', '2', '3', '4', '5', '6', '7', '8', '9', '']"
   ]
  },
  {
   "cell_type": "code",
   "execution_count": 2,
   "id": "10fd9535",
   "metadata": {},
   "outputs": [],
   "source": [
    "indicies = [ 0,  0,  0,  0, 11,  0,  0,  0, 33, 33, 30, 29,  1,  0,  0,  0, 30, 31,\n",
    "         35, 32,  0,  0,  0,  0,  0,  0,  0,  0,  0,  0,  0,  0,  0,  0,  0,  0,\n",
    "          0,  0,  0,  0,  0,  0,  0,  0,  0,  0,  0,  0,  0,  0]"
   ]
  },
  {
   "cell_type": "code",
   "execution_count": 3,
   "id": "53a77b6a",
   "metadata": {},
   "outputs": [
    {
     "data": {
      "text/plain": [
       "['<|eos|> 2x 3477 = 6954 <|eos|>', '<|eos|> 2x 6954 = 3477 <|eos|>']"
      ]
     },
     "execution_count": 3,
     "metadata": {},
     "output_type": "execute_result"
    }
   ],
   "source": [
    "['<|eos|> 2x 3477 = 6954 <|eos|>', '<|eos|> 2x 6954 = 3477 <|eos|>']"
   ]
  },
  {
   "cell_type": "code",
   "execution_count": 5,
   "id": "bcff891d",
   "metadata": {},
   "outputs": [
    {
     "data": {
      "text/plain": [
       "'<|eos|><|eos|><|eos|><|eos|>2x<|eos|><|eos|><|eos|>7743=<|eos|><|eos|><|eos|>4596<|eos|><|eos|><|eos|><|eos|><|eos|><|eos|><|eos|><|eos|><|eos|><|eos|><|eos|><|eos|><|eos|><|eos|><|eos|><|eos|><|eos|><|eos|><|eos|><|eos|><|eos|><|eos|><|eos|><|eos|><|eos|><|eos|><|eos|><|eos|><|eos|><|eos|>'"
      ]
     },
     "execution_count": 5,
     "metadata": {},
     "output_type": "execute_result"
    }
   ],
   "source": [
    "''.join([tok[i] for i in indicies])"
   ]
  }
 ],
 "metadata": {
  "kernelspec": {
   "display_name": "Python 3",
   "language": "python",
   "name": "python3"
  },
  "language_info": {
   "codemirror_mode": {
    "name": "ipython",
    "version": 3
   },
   "file_extension": ".py",
   "mimetype": "text/x-python",
   "name": "python",
   "nbconvert_exporter": "python",
   "pygments_lexer": "ipython3",
   "version": "3.6.8"
  }
 },
 "nbformat": 4,
 "nbformat_minor": 5
}
