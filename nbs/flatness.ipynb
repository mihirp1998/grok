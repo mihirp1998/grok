{
 "cells": [
  {
   "cell_type": "code",
   "execution_count": null,
   "id": "geographic-personal",
   "metadata": {},
   "outputs": [],
   "source": [
    "import os\n",
    "import pickle\n",
    "import matplotlib.pyplot as plt\n",
    "\n",
    "def paired_sort(list1, list2):\n",
    "    list1, list2 = zip(*sorted(zip(list1, list2)))\n",
    "    return list1, list2\n",
    "\n",
    "def plot_phi_by_ckpt():\n",
    "\n",
    "    nums = []\n",
    "    flatness = []\n",
    "\n",
    "    for f in sorted(os.listdir(\"../results/\")):\n",
    "        if \"pkl\" in f:\n",
    "            num = int(f.split(\"-\")[1].split(\".pkl\")[0])\n",
    "            dat = pickle.load(open(os.path.join(\"../results/\", f), \"rb\"))\n",
    "            nums.append(num)\n",
    "            flatness.append(dat[list(dat.keys())[0]].item())\n",
    "\n",
    "\n",
    "    nums, flatness = paired_sort(nums, flatness)\n",
    "    plt.plot(nums, flatness)\n",
    "    plt.xticks(range(len(nums)))\n",
    "    plt.ylabel(\"phi\")\n",
    "    plt.xlabel(\"SD-{n} checkpoint\")\n",
    "    plt.savefig(\"phi-by-ckpt.png\")"
   ]
  },
  {
   "cell_type": "code",
   "execution_count": null,
   "id": "mineral-assembly",
   "metadata": {},
   "outputs": [],
   "source": [
    "plot_phi_by_ckpt()"
   ]
  },
  {
   "cell_type": "code",
   "execution_count": 1,
   "id": "82be1186",
   "metadata": {},
   "outputs": [],
   "source": [
    "tok = ['<|eos|>', '=', '(x._value//y)if(y._value%2==1)else(x-y)_mod_97', '*', '**2+', '**3+', '+', '+*', '+-', '-', '/', '2x', '2x+1', 'copy', 'pfactor', 'reverse', 's5', 's5aba', 's5conj', 'sort', 'x**2+y**2+x*y+x_mod_97', 'x**2+y**2+x*y_mod_97', 'x**2+y**2_mod_97', 'x**3', 'x**3+x*y**2+y_mod_97', 'x**3+x*y_mod_97', '0', '1', '2', '3', '4', '5', '6', '7', '8', '9', '']"
   ]
  },
  {
   "cell_type": "code",
   "execution_count": 2,
   "id": "10fd9535",
   "metadata": {},
   "outputs": [],
   "source": [
    "indicies = [ 0,  0,  0,  0, 11,  0,  0,  0, 33, 33, 30, 29,  1,  0,  0,  0, 30, 31,\n",
    "         35, 32,  0,  0,  0,  0,  0,  0,  0,  0,  0,  0,  0,  0,  0,  0,  0,  0,\n",
    "          0,  0,  0,  0,  0,  0,  0,  0,  0,  0,  0,  0,  0,  0]"
   ]
  },
  {
   "cell_type": "code",
   "execution_count": 3,
   "id": "53a77b6a",
   "metadata": {},
   "outputs": [
    {
     "data": {
      "text/plain": [
       "['<|eos|> 2x 3477 = 6954 <|eos|>', '<|eos|> 2x 6954 = 3477 <|eos|>']"
      ]
     },
     "execution_count": 3,
     "metadata": {},
     "output_type": "execute_result"
    }
   ],
   "source": [
    "['<|eos|> 2x 3477 = 6954 <|eos|>', '<|eos|> 2x 6954 = 3477 <|eos|>']"
   ]
  },
  {
   "cell_type": "code",
   "execution_count": 5,
   "id": "bcff891d",
   "metadata": {},
   "outputs": [
    {
     "data": {
      "text/plain": [
       "'<|eos|><|eos|><|eos|><|eos|>2x<|eos|><|eos|><|eos|>7743=<|eos|><|eos|><|eos|>4596<|eos|><|eos|><|eos|><|eos|><|eos|><|eos|><|eos|><|eos|><|eos|><|eos|><|eos|><|eos|><|eos|><|eos|><|eos|><|eos|><|eos|><|eos|><|eos|><|eos|><|eos|><|eos|><|eos|><|eos|><|eos|><|eos|><|eos|><|eos|><|eos|><|eos|>'"
      ]
     },
     "execution_count": 5,
     "metadata": {},
     "output_type": "execute_result"
    }
   ],
   "source": [
    "''.join([tok[i] for i in indicies])"
   ]
  },
  {
   "cell_type": "code",
   "execution_count": 6,
   "id": "16368206",
   "metadata": {},
   "outputs": [],
   "source": [
    "stoi = {'<|startoftext|>': 0, '<|endoftext|>': 1, '=': 2, ' ': 3, '.': 4, '<|pad|>': 5, '(x._value//y)if(y._value%2==1)else(x-y)_mod_97': 6, '*': 7, '**2+': 8, '**3+': 9, '+': 10, '+*': 11, '+-': 12, '-': 13, '/': 14, '2x': 15, '2x+1': 16, 'copy': 17, 'pfactor': 18, 'reverse': 19, 's5': 20, 's5aba': 21, 's5conj': 22, 'sort': 23, 'x**2+y**2+x*y+x_mod_97': 24, 'x**2+y**2+x*y_mod_97': 25, 'x**2+y**2_mod_97': 26, 'x**3': 27, 'x**3+x*y**2+y_mod_97': 28, 'x**3+x*y_mod_97': 29, '0': 30, '1': 31, '2': 32, '3': 33, '4': 34, '5': 35, '6': 36, '7': 37, '8': 38, '9': 39, '': 40}\n",
    "itos = {v : k for k, v in stoi.items()}"
   ]
  },
  {
   "cell_type": "code",
   "execution_count": 7,
   "id": "d0b6130d",
   "metadata": {},
   "outputs": [],
   "source": [
    "def decode(lst):\n",
    "    return ''.join([itos[i] for i in lst])"
   ]
  },
  {
   "cell_type": "code",
   "execution_count": 3,
   "id": "0d35fea7",
   "metadata": {},
   "outputs": [
    {
     "name": "stdout",
     "output_type": "stream",
     "text": [
      "<|startoftext|> x**3 9394 = 828994534984 <|endoftext|> <|pad|><|pad|><|pad|><|pad|>\n"
     ]
    }
   ],
   "source": [
    "print(''.join([itos[idx] for idx in [ 0.,  3., 26.,  3., 38., 32., 38., 33.,  3.,  2.,  3., 37., 31.,\n",
    "       37., 38., 38., 33., 34., 32., 33., 38., 37., 33.,  3.,  1.,  3.,\n",
    "        4.,  4.,  4.,  4]]))"
   ]
  },
  {
   "cell_type": "code",
   "execution_count": 8,
   "id": "03cad343",
   "metadata": {},
   "outputs": [
    {
     "data": {
      "text/plain": [
       "'<|startoftext|> x**3 0.8292432830924585 = 9394 <|endoftext|> <|pad|>'"
      ]
     },
     "execution_count": 8,
     "metadata": {},
     "output_type": "execute_result"
    }
   ],
   "source": [
    "decode([ 0.,  3., 27.,  3., 30.,  4., 38., 32., 39., 32., 34., 33., 32.,\n",
    "       38., 33., 30., 39., 32., 34., 35., 38., 35.,  3.,  2.,  3., 39.,\n",
    "       33., 39., 34.,  3.,  1.,  3.,  5.,])"
   ]
  },
  {
   "cell_type": "code",
   "execution_count": 10,
   "id": "dade6e93",
   "metadata": {},
   "outputs": [],
   "source": [
    "import torch"
   ]
  },
  {
   "cell_type": "code",
   "execution_count": 15,
   "id": "eeaca939",
   "metadata": {},
   "outputs": [
    {
     "data": {
      "text/plain": [
       "tensor([[ 1,  2,  3,  4,  5,  6,  7,  8,  9, 10],\n",
       "        [11, 12, 13, 14, 15, 16, 17, 18, 19, 20]])"
      ]
     },
     "execution_count": 15,
     "metadata": {},
     "output_type": "execute_result"
    }
   ],
   "source": [
    "operands = torch.tensor([[1,2,3,4,5,6,7,8,9,10], [11,12,13,14,15,16,17,18,19,20]])\n",
    "operands"
   ]
  },
  {
   "cell_type": "code",
   "execution_count": 18,
   "id": "f08c9ab6",
   "metadata": {},
   "outputs": [],
   "source": [
    "k = 3\n",
    "list_len = 10"
   ]
  },
  {
   "cell_type": "code",
   "execution_count": 19,
   "id": "49399d85",
   "metadata": {},
   "outputs": [],
   "source": [
    "res = torch.cat([torch.flip(operands[:, i:i+k], dims=(1,)) for i in range(0, list_len, k)], dim=1)"
   ]
  },
  {
   "cell_type": "code",
   "execution_count": 20,
   "id": "7af9dc3d",
   "metadata": {},
   "outputs": [
    {
     "data": {
      "text/plain": [
       "tensor([ 3,  2,  1,  6,  5,  4,  9,  8,  7, 10])"
      ]
     },
     "execution_count": 20,
     "metadata": {},
     "output_type": "execute_result"
    }
   ],
   "source": [
    "res[0]"
   ]
  },
  {
   "cell_type": "code",
   "execution_count": 24,
   "id": "7792c766",
   "metadata": {},
   "outputs": [],
   "source": [
    "res = torch.cat([torch.roll(operands, shifts=-k, dims=1)], dim=1)"
   ]
  },
  {
   "cell_type": "code",
   "execution_count": 26,
   "id": "1c6b6984",
   "metadata": {},
   "outputs": [
    {
     "data": {
      "text/plain": [
       "tensor([ 4,  5,  6,  7,  8,  9, 10,  1,  2,  3])"
      ]
     },
     "execution_count": 26,
     "metadata": {},
     "output_type": "execute_result"
    }
   ],
   "source": [
    "res[0]"
   ]
  },
  {
   "cell_type": "code",
   "execution_count": 35,
   "id": "c2e5107f",
   "metadata": {},
   "outputs": [
    {
     "data": {
      "text/plain": [
       "[[0, 1, 2, 3, 4, 5, 6, 7, 8, 9], [10, 11, 12, 13, 14, 15, 16, 17, 18, 19]]"
      ]
     },
     "execution_count": 35,
     "metadata": {},
     "output_type": "execute_result"
    }
   ],
   "source": [
    "[[i.item()-1 for i in row] for row in operands]"
   ]
  },
  {
   "cell_type": "code",
   "execution_count": 40,
   "id": "b153d11d",
   "metadata": {},
   "outputs": [
    {
     "data": {
      "text/plain": [
       "tensor([8, 4, 9, 0, 5, 1, 6, 7, 2, 3])"
      ]
     },
     "execution_count": 40,
     "metadata": {},
     "output_type": "execute_result"
    }
   ],
   "source": [
    "generator = torch.Generator().manual_seed(43)\n",
    "torch.randperm(list_len, generator=generator)"
   ]
  },
  {
   "cell_type": "code",
   "execution_count": 34,
   "id": "b1a5b04c",
   "metadata": {},
   "outputs": [
    {
     "name": "stdout",
     "output_type": "stream",
     "text": [
      "Random mapping: {1: tensor(0), 2: tensor(2), 3: tensor(3), 4: tensor(6), 5: tensor(7), 6: tensor(8), 7: tensor(9), 8: tensor(1), 9: tensor(4), 10: tensor(5)}\n"
     ]
    },
    {
     "ename": "KeyError",
     "evalue": "11",
     "output_type": "error",
     "traceback": [
      "\u001b[0;31m---------------------------------------------------------------------------\u001b[0m",
      "\u001b[0;31mKeyError\u001b[0m                                  Traceback (most recent call last)",
      "Cell \u001b[0;32mIn[34], line 6\u001b[0m\n\u001b[1;32m      4\u001b[0m     mp[i\u001b[38;5;241m+\u001b[39m\u001b[38;5;241m1\u001b[39m] \u001b[38;5;241m=\u001b[39m j\n\u001b[1;32m      5\u001b[0m \u001b[38;5;28mprint\u001b[39m(\u001b[38;5;124mf\u001b[39m\u001b[38;5;124m'\u001b[39m\u001b[38;5;124mRandom mapping: \u001b[39m\u001b[38;5;132;01m{\u001b[39;00mmp\u001b[38;5;132;01m}\u001b[39;00m\u001b[38;5;124m'\u001b[39m\u001b[38;5;241m.\u001b[39mcenter(\u001b[38;5;241m100\u001b[39m, \u001b[38;5;124m'\u001b[39m\u001b[38;5;124m-\u001b[39m\u001b[38;5;124m'\u001b[39m) )\n\u001b[0;32m----> 6\u001b[0m res \u001b[38;5;241m=\u001b[39m torch\u001b[38;5;241m.\u001b[39mtensor([[mp[i\u001b[38;5;241m.\u001b[39mitem()] \u001b[38;5;28;01mfor\u001b[39;00m i \u001b[38;5;129;01min\u001b[39;00m row] \u001b[38;5;28;01mfor\u001b[39;00m row \u001b[38;5;129;01min\u001b[39;00m operands])\n",
      "Cell \u001b[0;32mIn[34], line 6\u001b[0m, in \u001b[0;36m<listcomp>\u001b[0;34m(.0)\u001b[0m\n\u001b[1;32m      4\u001b[0m     mp[i\u001b[38;5;241m+\u001b[39m\u001b[38;5;241m1\u001b[39m] \u001b[38;5;241m=\u001b[39m j\n\u001b[1;32m      5\u001b[0m \u001b[38;5;28mprint\u001b[39m(\u001b[38;5;124mf\u001b[39m\u001b[38;5;124m'\u001b[39m\u001b[38;5;124mRandom mapping: \u001b[39m\u001b[38;5;132;01m{\u001b[39;00mmp\u001b[38;5;132;01m}\u001b[39;00m\u001b[38;5;124m'\u001b[39m\u001b[38;5;241m.\u001b[39mcenter(\u001b[38;5;241m100\u001b[39m, \u001b[38;5;124m'\u001b[39m\u001b[38;5;124m-\u001b[39m\u001b[38;5;124m'\u001b[39m) )\n\u001b[0;32m----> 6\u001b[0m res \u001b[38;5;241m=\u001b[39m torch\u001b[38;5;241m.\u001b[39mtensor([[mp[i\u001b[38;5;241m.\u001b[39mitem()] \u001b[38;5;28;01mfor\u001b[39;00m i \u001b[38;5;129;01min\u001b[39;00m row] \u001b[38;5;28;01mfor\u001b[39;00m row \u001b[38;5;129;01min\u001b[39;00m operands])\n",
      "Cell \u001b[0;32mIn[34], line 6\u001b[0m, in \u001b[0;36m<listcomp>\u001b[0;34m(.0)\u001b[0m\n\u001b[1;32m      4\u001b[0m     mp[i\u001b[38;5;241m+\u001b[39m\u001b[38;5;241m1\u001b[39m] \u001b[38;5;241m=\u001b[39m j\n\u001b[1;32m      5\u001b[0m \u001b[38;5;28mprint\u001b[39m(\u001b[38;5;124mf\u001b[39m\u001b[38;5;124m'\u001b[39m\u001b[38;5;124mRandom mapping: \u001b[39m\u001b[38;5;132;01m{\u001b[39;00mmp\u001b[38;5;132;01m}\u001b[39;00m\u001b[38;5;124m'\u001b[39m\u001b[38;5;241m.\u001b[39mcenter(\u001b[38;5;241m100\u001b[39m, \u001b[38;5;124m'\u001b[39m\u001b[38;5;124m-\u001b[39m\u001b[38;5;124m'\u001b[39m) )\n\u001b[0;32m----> 6\u001b[0m res \u001b[38;5;241m=\u001b[39m torch\u001b[38;5;241m.\u001b[39mtensor([[\u001b[43mmp\u001b[49m\u001b[43m[\u001b[49m\u001b[43mi\u001b[49m\u001b[38;5;241;43m.\u001b[39;49m\u001b[43mitem\u001b[49m\u001b[43m(\u001b[49m\u001b[43m)\u001b[49m\u001b[43m]\u001b[49m \u001b[38;5;28;01mfor\u001b[39;00m i \u001b[38;5;129;01min\u001b[39;00m row] \u001b[38;5;28;01mfor\u001b[39;00m row \u001b[38;5;129;01min\u001b[39;00m operands])\n",
      "\u001b[0;31mKeyError\u001b[0m: 11"
     ]
    }
   ],
   "source": [
    "rp = torch.randperm(list_len)\n",
    "mp = {}\n",
    "for i, j in enumerate(rp):\n",
    "    mp[i+1] = j\n",
    "print(f'Random mapping: {mp}'.center(100, '-') )\n",
    "res = torch.tensor([[mp[i.item()] for i in row] for row in operands])"
   ]
  },
  {
   "cell_type": "code",
   "execution_count": null,
   "id": "0c250e1a",
   "metadata": {},
   "outputs": [],
   "source": []
  }
 ],
 "metadata": {
  "kernelspec": {
   "display_name": "Python 3",
   "language": "python",
   "name": "python3"
  },
  "language_info": {
   "codemirror_mode": {
    "name": "ipython",
    "version": 3
   },
   "file_extension": ".py",
   "mimetype": "text/x-python",
   "name": "python",
   "nbconvert_exporter": "python",
   "pygments_lexer": "ipython3",
   "version": "3.10.14"
  }
 },
 "nbformat": 4,
 "nbformat_minor": 5
}
