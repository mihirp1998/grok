{
 "cells": [
  {
   "cell_type": "code",
   "execution_count": null,
   "id": "geographic-personal",
   "metadata": {},
   "outputs": [],
   "source": [
    "import os\n",
    "import pickle\n",
    "import matplotlib.pyplot as plt\n",
    "\n",
    "def paired_sort(list1, list2):\n",
    "    list1, list2 = zip(*sorted(zip(list1, list2)))\n",
    "    return list1, list2\n",
    "\n",
    "def plot_phi_by_ckpt():\n",
    "\n",
    "    nums = []\n",
    "    flatness = []\n",
    "\n",
    "    for f in sorted(os.listdir(\"../results/\")):\n",
    "        if \"pkl\" in f:\n",
    "            num = int(f.split(\"-\")[1].split(\".pkl\")[0])\n",
    "            dat = pickle.load(open(os.path.join(\"../results/\", f), \"rb\"))\n",
    "            nums.append(num)\n",
    "            flatness.append(dat[list(dat.keys())[0]].item())\n",
    "\n",
    "\n",
    "    nums, flatness = paired_sort(nums, flatness)\n",
    "    plt.plot(nums, flatness)\n",
    "    plt.xticks(range(len(nums)))\n",
    "    plt.ylabel(\"phi\")\n",
    "    plt.xlabel(\"SD-{n} checkpoint\")\n",
    "    plt.savefig(\"phi-by-ckpt.png\")"
   ]
  },
  {
   "cell_type": "code",
   "execution_count": null,
   "id": "mineral-assembly",
   "metadata": {},
   "outputs": [],
   "source": [
    "plot_phi_by_ckpt()"
   ]
  },
  {
   "cell_type": "code",
   "execution_count": 1,
   "id": "82be1186",
   "metadata": {},
   "outputs": [],
   "source": [
    "tok = ['<|eos|>', '=', '(x._value//y)if(y._value%2==1)else(x-y)_mod_97', '*', '**2+', '**3+', '+', '+*', '+-', '-', '/', '2x', '2x+1', 'copy', 'pfactor', 'reverse', 's5', 's5aba', 's5conj', 'sort', 'x**2+y**2+x*y+x_mod_97', 'x**2+y**2+x*y_mod_97', 'x**2+y**2_mod_97', 'x**3', 'x**3+x*y**2+y_mod_97', 'x**3+x*y_mod_97', '0', '1', '2', '3', '4', '5', '6', '7', '8', '9', '']"
   ]
  },
  {
   "cell_type": "code",
   "execution_count": 2,
   "id": "10fd9535",
   "metadata": {},
   "outputs": [],
   "source": [
    "indicies = [ 0,  0,  0,  0, 11,  0,  0,  0, 33, 33, 30, 29,  1,  0,  0,  0, 30, 31,\n",
    "         35, 32,  0,  0,  0,  0,  0,  0,  0,  0,  0,  0,  0,  0,  0,  0,  0,  0,\n",
    "          0,  0,  0,  0,  0,  0,  0,  0,  0,  0,  0,  0,  0,  0]"
   ]
  },
  {
   "cell_type": "code",
   "execution_count": 3,
   "id": "53a77b6a",
   "metadata": {},
   "outputs": [
    {
     "data": {
      "text/plain": [
       "['<|eos|> 2x 3477 = 6954 <|eos|>', '<|eos|> 2x 6954 = 3477 <|eos|>']"
      ]
     },
     "execution_count": 3,
     "metadata": {},
     "output_type": "execute_result"
    }
   ],
   "source": [
    "['<|eos|> 2x 3477 = 6954 <|eos|>', '<|eos|> 2x 6954 = 3477 <|eos|>']"
   ]
  },
  {
   "cell_type": "code",
   "execution_count": 5,
   "id": "bcff891d",
   "metadata": {},
   "outputs": [
    {
     "data": {
      "text/plain": [
       "'<|eos|><|eos|><|eos|><|eos|>2x<|eos|><|eos|><|eos|>7743=<|eos|><|eos|><|eos|>4596<|eos|><|eos|><|eos|><|eos|><|eos|><|eos|><|eos|><|eos|><|eos|><|eos|><|eos|><|eos|><|eos|><|eos|><|eos|><|eos|><|eos|><|eos|><|eos|><|eos|><|eos|><|eos|><|eos|><|eos|><|eos|><|eos|><|eos|><|eos|><|eos|><|eos|>'"
      ]
     },
     "execution_count": 5,
     "metadata": {},
     "output_type": "execute_result"
    }
   ],
   "source": [
    "''.join([tok[i] for i in indicies])"
   ]
  },
  {
   "cell_type": "code",
   "execution_count": 1,
   "id": "16368206",
   "metadata": {},
   "outputs": [],
   "source": [
    "stoi = {'<|startoftext|>': 0, '<|endoftext|>': 1, '=': 2, ' ': 3, '<|pad|>': 4, '(x._value//y)if(y._value%2==1)else(x-y)_mod_97': 5, '*': 6, '**2+': 7, '**3+': 8, '+': 9, '+*': 10, '+-': 11, '-': 12, '/': 13, '2x': 14, '2x+1': 15, 'copy': 16, 'pfactor': 17, 'reverse': 18, 's5': 19, 's5aba': 20, 's5conj': 21, 'sort': 22, 'x**2+y**2+x*y+x_mod_97': 23, 'x**2+y**2+x*y_mod_97': 24, 'x**2+y**2_mod_97': 25, 'x**3': 26, 'x**3+x*y**2+y_mod_97': 27, 'x**3+x*y_mod_97': 28, '0': 29, '1': 30, '2': 31, '3': 32, '4': 33, '5': 34, '6': 35, '7': 36, '8': 37, '9': 38, '': 39}\n",
    "itos = {v : k for k, v in stoi.items()}"
   ]
  },
  {
   "cell_type": "code",
   "execution_count": 4,
   "id": "d0b6130d",
   "metadata": {},
   "outputs": [],
   "source": [
    "def decode(lst):\n",
    "    return ''.join([itos[i] for i in lst])"
   ]
  },
  {
   "cell_type": "code",
   "execution_count": 3,
   "id": "0d35fea7",
   "metadata": {},
   "outputs": [
    {
     "name": "stdout",
     "output_type": "stream",
     "text": [
      "<|startoftext|> x**3 9394 = 828994534984 <|endoftext|> <|pad|><|pad|><|pad|><|pad|>\n"
     ]
    }
   ],
   "source": [
    "print(''.join([itos[idx] for idx in [ 0.,  3., 26.,  3., 38., 32., 38., 33.,  3.,  2.,  3., 37., 31.,\n",
    "       37., 38., 38., 33., 34., 32., 33., 38., 37., 33.,  3.,  1.,  3.,\n",
    "        4.,  4.,  4.,  4]]))"
   ]
  },
  {
   "cell_type": "code",
   "execution_count": 6,
   "id": "03cad343",
   "metadata": {},
   "outputs": [
    {
     "data": {
      "text/plain": [
       "' <|endoftext|> <|pad|>'"
      ]
     },
     "execution_count": 6,
     "metadata": {},
     "output_type": "execute_result"
    }
   ],
   "source": [
    "decode([  3.,  1.,  3., 4.])"
   ]
  }
 ],
 "metadata": {
  "kernelspec": {
   "display_name": "Python 3",
   "language": "python",
   "name": "python3"
  },
  "language_info": {
   "codemirror_mode": {
    "name": "ipython",
    "version": 3
   },
   "file_extension": ".py",
   "mimetype": "text/x-python",
   "name": "python",
   "nbconvert_exporter": "python",
   "pygments_lexer": "ipython3",
   "version": "3.10.14"
  }
 },
 "nbformat": 4,
 "nbformat_minor": 5
}
