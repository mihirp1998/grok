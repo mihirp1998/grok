{
 "cells": [
  {
   "cell_type": "code",
   "execution_count": null,
   "id": "geographic-personal",
   "metadata": {},
   "outputs": [],
   "source": [
    "import os\n",
    "import pickle\n",
    "import matplotlib.pyplot as plt\n",
    "\n",
    "def paired_sort(list1, list2):\n",
    "    list1, list2 = zip(*sorted(zip(list1, list2)))\n",
    "    return list1, list2\n",
    "\n",
    "def plot_phi_by_ckpt():\n",
    "\n",
    "    nums = []\n",
    "    flatness = []\n",
    "\n",
    "    for f in sorted(os.listdir(\"../results/\")):\n",
    "        if \"pkl\" in f:\n",
    "            num = int(f.split(\"-\")[1].split(\".pkl\")[0])\n",
    "            dat = pickle.load(open(os.path.join(\"../results/\", f), \"rb\"))\n",
    "            nums.append(num)\n",
    "            flatness.append(dat[list(dat.keys())[0]].item())\n",
    "\n",
    "\n",
    "    nums, flatness = paired_sort(nums, flatness)\n",
    "    plt.plot(nums, flatness)\n",
    "    plt.xticks(range(len(nums)))\n",
    "    plt.ylabel(\"phi\")\n",
    "    plt.xlabel(\"SD-{n} checkpoint\")\n",
    "    plt.savefig(\"phi-by-ckpt.png\")"
   ]
  },
  {
   "cell_type": "code",
   "execution_count": null,
   "id": "mineral-assembly",
   "metadata": {},
   "outputs": [],
   "source": [
    "plot_phi_by_ckpt()"
   ]
  },
  {
   "cell_type": "code",
   "execution_count": 1,
   "id": "4cd1a5a0",
   "metadata": {},
   "outputs": [],
   "source": [
    "stoi = {'<|startoftext|>': 0, '<|endoftext|>': 1, '=': 2, ' ': 3, '.': 4, 'e': 5, '-': 16, '+': 13, '<|pad|>': 8, '(x._value//y)if(y._value%2==1)else(x-y)_mod_97': 9, '*': 10, '**2+': 11, '**3+': 12, '+*': 14, '+-': 15, '/': 17, '2x': 18, '2x+1': 19, 'caesarcipher': 20, 'caesarcipher_permutev1': 21, 'copy': 22, 'idx_add': 23, 'interleaved_halves': 24, 'k_shift': 25, 'permutev1': 26, 'permutev2': 27, 'permutev3': 28, 'pfactor': 29, 'random_swaps': 30, 'reverse': 31, 'reverse_pool': 32, 's5': 33, 's5aba': 34, 's5conj': 35, 'sort': 36, 'strdeletev1': 37, 'strdeletev2': 38, 'x**2+y**2+x*y+x_mod_97': 39, 'x**2+y**2+x*y_mod_97': 40, 'x**2+y**2_mod_97': 41, 'x**3': 42, 'x**3+x*y**2+y_mod_97': 43, 'x**3+x*y_mod_97': 44, 'x+11': 45, '0': 46, '1': 47, '2': 48, '3': 49, '4': 50, '5': 51, '6': 52, '7': 53, '8': 54, '9': 55, '': 56}\n",
    "itos = {v: k for k, v in stoi.items()}"
   ]
  },
  {
   "cell_type": "code",
   "execution_count": 4,
   "id": "c3aac5c4",
   "metadata": {},
   "outputs": [],
   "source": [
    "def decode(lst):\n",
    "    return ''.join([itos[x] for x in lst])\n"
   ]
  },
  {
   "cell_type": "code",
   "execution_count": 5,
   "id": "0a470493",
   "metadata": {},
   "outputs": [
    {
     "data": {
      "text/plain": [
       "'<|endoftext|> pfactor 9394 = 2 7 11 61 <|endoftext|> <|pad|><|pad|>'"
      ]
     },
     "execution_count": 5,
     "metadata": {},
     "output_type": "execute_result"
    }
   ],
   "source": [
    "decode([ 1.,  3., 29.,  3., 55., 49., 55., 50.,  3.,  2.,  3., 48.,  3.,\n",
    "       53.,  3., 47., 47.,  3., 52., 47.,  3.,  1.,  3.,  8.,  8.,])"
   ]
  }
 ],
 "metadata": {
  "kernelspec": {
   "display_name": "Python 3",
   "language": "python",
   "name": "python3"
  },
  "language_info": {
   "codemirror_mode": {
    "name": "ipython",
    "version": 3
   },
   "file_extension": ".py",
   "mimetype": "text/x-python",
   "name": "python",
   "nbconvert_exporter": "python",
   "pygments_lexer": "ipython3",
   "version": "3.6.8"
  }
 },
 "nbformat": 4,
 "nbformat_minor": 5
}
